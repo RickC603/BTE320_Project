{
  "nbformat": 4,
  "nbformat_minor": 0,
  "metadata": {
    "colab": {
      "provenance": [],
      "authorship_tag": "ABX9TyNFWDFxcTD+JrFpNZIV178g",
      "include_colab_link": true
    },
    "kernelspec": {
      "name": "python3",
      "display_name": "Python 3"
    },
    "language_info": {
      "name": "python"
    }
  },
  "cells": [
    {
      "cell_type": "markdown",
      "metadata": {
        "id": "view-in-github",
        "colab_type": "text"
      },
      "source": [
        "<a href=\"https://colab.research.google.com/github/RickC603/BTE320_Project/blob/main/Animal_Class.ipynb\" target=\"_parent\"><img src=\"https://colab.research.google.com/assets/colab-badge.svg\" alt=\"Open In Colab\"/></a>"
      ]
    },
    {
      "cell_type": "code",
      "execution_count": 1,
      "metadata": {
        "id": "JgVLzrvEE7NF",
        "outputId": "2b28c4f2-5d3a-4fac-8914-f2734ddc57b2",
        "colab": {
          "base_uri": "https://localhost:8080/"
        }
      },
      "outputs": [
        {
          "output_type": "stream",
          "name": "stdout",
          "text": [
            "Animal created\n",
            "Animal created\n",
            "Bird created\n",
            "I am an animal\n"
          ]
        }
      ],
      "source": [
        "class Animal:\n",
        "\n",
        "  def __init__ (self, legs):\n",
        "\n",
        "    print(\"Animal created\")\n",
        "\n",
        "    self.legs = legs\n",
        "\n",
        "\n",
        "\n",
        "  def whoAmI(self):\n",
        "\n",
        "    print(\"I am an animal\")\n",
        "\n",
        "\n",
        "\n",
        "class Bird(Animal):\n",
        "\n",
        "  def __init__(self, legs, wings):\n",
        "\n",
        "    super().__init__(legs)\n",
        "\n",
        "    self.wings = wings\n",
        "\n",
        "    print(\"Bird created\")\n",
        "\n",
        "\n",
        "\n",
        "  def fly(self):\n",
        "\n",
        "    print(\"Birds can fly\")\n",
        "\n",
        "\n",
        "\n",
        "a = Animal(4)\n",
        "\n",
        "b = Bird(2, 2)\n",
        "\n",
        "\n",
        "\n",
        "b.whoAmI()\n",
        "\n",
        ""
      ]
    }
  ]
}