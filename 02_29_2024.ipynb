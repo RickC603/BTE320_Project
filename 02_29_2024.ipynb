{
  "nbformat": 4,
  "nbformat_minor": 0,
  "metadata": {
    "colab": {
      "provenance": [],
      "authorship_tag": "ABX9TyNMhAWUc0x3a4Uy913nJIB2",
      "include_colab_link": true
    },
    "kernelspec": {
      "name": "python3",
      "display_name": "Python 3"
    },
    "language_info": {
      "name": "python"
    }
  },
  "cells": [
    {
      "cell_type": "markdown",
      "metadata": {
        "id": "view-in-github",
        "colab_type": "text"
      },
      "source": [
        "<a href=\"https://colab.research.google.com/github/RickC603/BTE320_Project/blob/main/02_29_2024.ipynb\" target=\"_parent\"><img src=\"https://colab.research.google.com/assets/colab-badge.svg\" alt=\"Open In Colab\"/></a>"
      ]
    },
    {
      "cell_type": "code",
      "execution_count": 12,
      "metadata": {
        "colab": {
          "base_uri": "https://localhost:8080/"
        },
        "id": "Rxnb5P_tWpQJ",
        "outputId": "6c80fc79-1096-4821-ffac-fa3fb07faa4b"
      },
      "outputs": [
        {
          "output_type": "stream",
          "name": "stdout",
          "text": [
            "Enter a value:6\n",
            "Enter a value:9\n",
            "Enter a value:7\n",
            "Enter a value:0\n",
            "[6, 9, 7]\n"
          ]
        },
        {
          "output_type": "execute_result",
          "data": {
            "text/plain": [
              "[2, 3, 4]"
            ]
          },
          "metadata": {},
          "execution_count": 12
        }
      ],
      "source": [
        "L=[]\n",
        "\n",
        "number=int(input('Enter a value:'))\n",
        "while number !=0:\n",
        "  L.append(number)\n",
        "  number=int(input('Enter a value:'))\n",
        "print(L)\n",
        "\n",
        "L1 = [1,2,3,4]\n",
        "L2= [1,2,5,6]\n",
        "\n",
        "for item in L1:\n",
        "  if item in L2:\n",
        "    L1.remove(item)\n",
        "L1\n",
        "\n",
        "t=()"
      ]
    }
  ]
}