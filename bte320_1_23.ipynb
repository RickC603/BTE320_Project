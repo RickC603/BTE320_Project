{
  "nbformat": 4,
  "nbformat_minor": 0,
  "metadata": {
    "colab": {
      "provenance": [],
      "authorship_tag": "ABX9TyNCQf/7os80Ohh9E21Btmof",
      "include_colab_link": true
    },
    "kernelspec": {
      "name": "python3",
      "display_name": "Python 3"
    },
    "language_info": {
      "name": "python"
    }
  },
  "cells": [
    {
      "cell_type": "markdown",
      "metadata": {
        "id": "view-in-github",
        "colab_type": "text"
      },
      "source": [
        "<a href=\"https://colab.research.google.com/github/RickC603/BTE320_Project/blob/main/bte320_1_23.ipynb\" target=\"_parent\"><img src=\"https://colab.research.google.com/assets/colab-badge.svg\" alt=\"Open In Colab\"/></a>"
      ]
    },
    {
      "cell_type": "code",
      "execution_count": null,
      "metadata": {
        "id": "tlP_noBUwPC2",
        "outputId": "0fba4a5d-adb2-45d1-969e-035dc94c5f6f",
        "colab": {
          "base_uri": "https://localhost:8080/"
        }
      },
      "outputs": [
        {
          "output_type": "stream",
          "name": "stdout",
          "text": [
            "the value of pi is 3.14 and the value of radius is 5\n",
            "The value of pi is 3.14 and the value of radius is 5\n"
          ]
        }
      ],
      "source": [
        "pi=3.14\n",
        "radius=5\n",
        "print(('the value of pi is {} and the value of radius is {}').format(pi,radius))\n",
        "\n",
        "print(f'The value of pi is {pi} and the value of radius is {radius}')"
      ]
    }
  ]
}