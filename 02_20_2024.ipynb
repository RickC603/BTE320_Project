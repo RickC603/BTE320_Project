{
  "nbformat": 4,
  "nbformat_minor": 0,
  "metadata": {
    "colab": {
      "provenance": [],
      "authorship_tag": "ABX9TyPXTtZyGwrN9GhfsHK6Gmg4",
      "include_colab_link": true
    },
    "kernelspec": {
      "name": "python3",
      "display_name": "Python 3"
    },
    "language_info": {
      "name": "python"
    }
  },
  "cells": [
    {
      "cell_type": "markdown",
      "metadata": {
        "id": "view-in-github",
        "colab_type": "text"
      },
      "source": [
        "<a href=\"https://colab.research.google.com/github/RickC603/BTE320_Project/blob/main/02_20_2024.ipynb\" target=\"_parent\"><img src=\"https://colab.research.google.com/assets/colab-badge.svg\" alt=\"Open In Colab\"/></a>"
      ]
    },
    {
      "cell_type": "code",
      "execution_count": 4,
      "metadata": {
        "colab": {
          "base_uri": "https://localhost:8080/"
        },
        "id": "kiznFO5f162B",
        "outputId": "0c548fc1-b226-49e1-95f3-44a1bf7a520f"
      },
      "outputs": [
        {
          "output_type": "stream",
          "name": "stdout",
          "text": [
            "Enter a date:02/22/2022\n",
            "The month is 02\n",
            "The day is 22\n",
            "The year 2022\n"
          ]
        }
      ],
      "source": [
        "date=input(\"Enter a date:\")\n",
        "print(f'The month is {date[0:2]}')\n",
        "print(f'The day is {date[3:5]}')\n",
        "print(f'The year {date[6:10]}')"
      ]
    }
  ]
}