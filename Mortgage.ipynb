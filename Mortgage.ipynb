{
  "nbformat": 4,
  "nbformat_minor": 0,
  "metadata": {
    "colab": {
      "provenance": [],
      "authorship_tag": "ABX9TyM1TdduYxuhFq/lnGA3aukh",
      "include_colab_link": true
    },
    "kernelspec": {
      "name": "python3",
      "display_name": "Python 3"
    },
    "language_info": {
      "name": "python"
    }
  },
  "cells": [
    {
      "cell_type": "markdown",
      "metadata": {
        "id": "view-in-github",
        "colab_type": "text"
      },
      "source": [
        "<a href=\"https://colab.research.google.com/github/RickC603/BTE320_Project/blob/main/Mortgage.ipynb\" target=\"_parent\"><img src=\"https://colab.research.google.com/assets/colab-badge.svg\" alt=\"Open In Colab\"/></a>"
      ]
    },
    {
      "cell_type": "code",
      "execution_count": 4,
      "metadata": {
        "colab": {
          "base_uri": "https://localhost:8080/"
        },
        "id": "OmMKm4LJBthd",
        "outputId": "ba4719d9-deed-4b59-e37f-d85facac3e60"
      },
      "outputs": [
        {
          "output_type": "stream",
          "name": "stdout",
          "text": [
            "Interest must be non-negative\n"
          ]
        },
        {
          "output_type": "execute_result",
          "data": {
            "text/plain": [
              "6.0"
            ]
          },
          "metadata": {},
          "execution_count": 4
        }
      ],
      "source": [
        "class Mortgage:\n",
        "\n",
        "  def __init__(self, amount, maturity, interest):\n",
        "\n",
        "    self.__amount = float(amount)\n",
        "\n",
        "    self.__maturity = float(maturity)\n",
        "\n",
        "    self.__interest = float(interest)\n",
        "\n",
        "\n",
        "\n",
        "  def get_interest(self):\n",
        "\n",
        "    return self.__interest\n",
        "\n",
        "\n",
        "\n",
        "  def set_interest(self, newInterest):\n",
        "\n",
        "    if newInterest >= 0:\n",
        "\n",
        "      self.__interest = newInterest\n",
        "\n",
        "    else:\n",
        "\n",
        "      print(\"Interest must be non-negative\")\n",
        "\n",
        "\n",
        "\n",
        "  def payment(self):\n",
        "\n",
        "\n",
        "\n",
        "    B = self.__amount\n",
        "\n",
        "    n = self.__maturity*12\n",
        "\n",
        "    r = self.__interest / 100\n",
        "\n",
        "\n",
        "\n",
        "    payment = B*(r*(1+r)**(n)) / ((1+r)**(n)-1)\n",
        "\n",
        "    return payment\n",
        "\n",
        "\n",
        "\n",
        "\n"
      ]
    },
    {
      "cell_type": "code",
      "source": [
        "m.interest=6\n",
        "m.get_interest()"
      ],
      "metadata": {
        "colab": {
          "base_uri": "https://localhost:8080/"
        },
        "id": "I3tGBR2YCoKu",
        "outputId": "c909aefa-1f05-4b57-f18a-832d6608762c"
      },
      "execution_count": 5,
      "outputs": [
        {
          "output_type": "execute_result",
          "data": {
            "text/plain": [
              "6.0"
            ]
          },
          "metadata": {},
          "execution_count": 5
        }
      ]
    },
    {
      "cell_type": "code",
      "source": [
        "m.set_interest(-5)\n",
        "m.get_interest()"
      ],
      "metadata": {
        "colab": {
          "base_uri": "https://localhost:8080/"
        },
        "id": "JCtDqZTkCmNA",
        "outputId": "a94ccdee-30af-446a-c949-af6f130e3875"
      },
      "execution_count": 6,
      "outputs": [
        {
          "output_type": "stream",
          "name": "stdout",
          "text": [
            "Interest must be non-negative\n"
          ]
        },
        {
          "output_type": "execute_result",
          "data": {
            "text/plain": [
              "6.0"
            ]
          },
          "metadata": {},
          "execution_count": 6
        }
      ]
    },
    {
      "cell_type": "code",
      "source": [
        "m=Mortgage(100000, 30, 6)\n",
        "m.payment()"
      ],
      "metadata": {
        "colab": {
          "base_uri": "https://localhost:8080/"
        },
        "id": "3-eowYw0ClOY",
        "outputId": "be6bba8d-3287-4dbd-aebe-c95edf5b8d33"
      },
      "execution_count": 7,
      "outputs": [
        {
          "output_type": "execute_result",
          "data": {
            "text/plain": [
              "6000.000004656286"
            ]
          },
          "metadata": {},
          "execution_count": 7
        }
      ]
    },
    {
      "cell_type": "code",
      "source": [
        "m.get_interest()"
      ],
      "metadata": {
        "id": "2tW4ysaoCw36",
        "outputId": "b05d1e88-9f81-4da1-f14c-bb523f9b98af",
        "colab": {
          "base_uri": "https://localhost:8080/"
        }
      },
      "execution_count": 8,
      "outputs": [
        {
          "output_type": "execute_result",
          "data": {
            "text/plain": [
              "6.0"
            ]
          },
          "metadata": {},
          "execution_count": 8
        }
      ]
    }
  ]
}