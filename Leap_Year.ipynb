{
  "nbformat": 4,
  "nbformat_minor": 0,
  "metadata": {
    "colab": {
      "provenance": [],
      "authorship_tag": "ABX9TyO3c97YRaFTaPLHwSs6sjOq",
      "include_colab_link": true
    },
    "kernelspec": {
      "name": "python3",
      "display_name": "Python 3"
    },
    "language_info": {
      "name": "python"
    }
  },
  "cells": [
    {
      "cell_type": "markdown",
      "metadata": {
        "id": "view-in-github",
        "colab_type": "text"
      },
      "source": [
        "<a href=\"https://colab.research.google.com/github/RickC603/BTE320_Project/blob/main/Leap_Year.ipynb\" target=\"_parent\"><img src=\"https://colab.research.google.com/assets/colab-badge.svg\" alt=\"Open In Colab\"/></a>"
      ]
    },
    {
      "cell_type": "code",
      "execution_count": null,
      "metadata": {
        "id": "AKs0revGDjz1"
      },
      "outputs": [],
      "source": [
        "year = int(input(\"Enter a year: \"))\n",
        "\n",
        "\n",
        "\n",
        "if (year % 4 == 0 and year % 100 != 0) or (year % 400 == 0):\n",
        "\n",
        "    print(f\"{year} is a leap year!\")\n",
        "\n",
        "else:\n",
        "\n",
        "    print(f\"{year} is not a leap year.\")\n",
        "\n",
        "\n",
        "\n"
      ]
    }
  ]
}