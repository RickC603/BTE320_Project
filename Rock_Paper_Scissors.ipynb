{
  "nbformat": 4,
  "nbformat_minor": 0,
  "metadata": {
    "colab": {
      "provenance": [],
      "authorship_tag": "ABX9TyOlPv2QkS3116aLTBLKkZ5Y",
      "include_colab_link": true
    },
    "kernelspec": {
      "name": "python3",
      "display_name": "Python 3"
    },
    "language_info": {
      "name": "python"
    }
  },
  "cells": [
    {
      "cell_type": "markdown",
      "metadata": {
        "id": "view-in-github",
        "colab_type": "text"
      },
      "source": [
        "<a href=\"https://colab.research.google.com/github/RickC603/BTE320_Project/blob/main/Rock_Paper_Scissors.ipynb\" target=\"_parent\"><img src=\"https://colab.research.google.com/assets/colab-badge.svg\" alt=\"Open In Colab\"/></a>"
      ]
    },
    {
      "cell_type": "code",
      "execution_count": null,
      "metadata": {
        "id": "_thVhkNQDKXQ"
      },
      "outputs": [],
      "source": [
        "import random\n",
        "\n",
        "play_again = True\n",
        "\n",
        "\n",
        "\n",
        "while(True):\n",
        "\n",
        "  pc_choice = random.choice(['rock','paper','scissors'])\n",
        "\n",
        "  user_choice = input(\"Choose 'rock', 'paper', or 'scissors' \")\n",
        "\n",
        "\n",
        "\n",
        "  if(pc_choice == user_choice):\n",
        "\n",
        "    print(\"It was a tie, you both chose: \", user_choice)\n",
        "\n",
        "  elif(pc_choice == 'rock'):\n",
        "\n",
        "    if(user_choice == 'paper'):\n",
        "\n",
        "      print(\"PC chose rock, you win!\")\n",
        "\n",
        "    elif(user_choice == 'scissors'):\n",
        "\n",
        "      print(\"PC chose rock, you lose!\")\n",
        "\n",
        "  elif(pc_choice == 'paper'):\n",
        "\n",
        "    if(user_choice == 'rock'):\n",
        "\n",
        "      print(\"PC chose paper, you lose!\")\n",
        "\n",
        "    elif(user_choice == 'scissors'):\n",
        "\n",
        "      print(\"PC chose paper, you win!\")\n",
        "\n",
        "  else:\n",
        "\n",
        "    if(user_choice == 'rock'):\n",
        "\n",
        "      print(\"PC chose scissors, you win!\")\n",
        "\n",
        "    elif(user_choice == 'paper'):\n",
        "\n",
        "      print(\"PC chose scissors, you lose!\")\n",
        "\n",
        "  play_again = input(\"Would you like to play again? Yes/No \")\n",
        "\n",
        "  if play_again.lower() == 'no':\n",
        "\n",
        "    break\n",
        "\n",
        ""
      ]
    }
  ]
}