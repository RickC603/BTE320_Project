{
  "nbformat": 4,
  "nbformat_minor": 0,
  "metadata": {
    "colab": {
      "provenance": [],
      "authorship_tag": "ABX9TyPOAkCPw7B1OgBD1LFVYQKc",
      "include_colab_link": true
    },
    "kernelspec": {
      "name": "python3",
      "display_name": "Python 3"
    },
    "language_info": {
      "name": "python"
    }
  },
  "cells": [
    {
      "cell_type": "markdown",
      "metadata": {
        "id": "view-in-github",
        "colab_type": "text"
      },
      "source": [
        "<a href=\"https://colab.research.google.com/github/RickC603/BTE320_Project/blob/main/Movie_Theater.ipynb\" target=\"_parent\"><img src=\"https://colab.research.google.com/assets/colab-badge.svg\" alt=\"Open In Colab\"/></a>"
      ]
    },
    {
      "cell_type": "code",
      "execution_count": 1,
      "metadata": {
        "colab": {
          "base_uri": "https://localhost:8080/"
        },
        "id": "xXVeOeQCEK2b",
        "outputId": "da9f12b5-17a1-434b-c43b-be59dedb52c7"
      },
      "outputs": [
        {
          "output_type": "stream",
          "name": "stdout",
          "text": [
            "Advertising Expenditure: $ 0.0 --- Profit: $ 0.0\n",
            "Advertising Expenditure: $ 25.0 --- Profit: $ 75.0\n",
            "Advertising Expenditure: $ 50.0 --- Profit: $ 90.0\n",
            "Advertising Expenditure: $ 75.0 --- Profit: $ 105.0\n",
            "Advertising Expenditure: $ 100.0 --- Profit: $ 100.0\n",
            "Advertising Expenditure: $ 125.0 --- Profit: $ 95.0\n",
            "Advertising Expenditure: $ 150.0 --- Profit: $ 90.0\n",
            "Advertising Expenditure: $ 175.0 --- Profit: $ 85.0\n",
            "Advertising Expenditure: $ 200.0 --- Profit: $ 80.0\n"
          ]
        }
      ],
      "source": [
        "for dollars in range (0,225,25):\n",
        "\n",
        "  profit = 200+10*(2*round(dollars**0.5))-200-dollars\n",
        "\n",
        "  print(\"Advertising Expenditure: $\", float(dollars), \"--- Profit: $\", float(profit))\n",
        "\n",
        "\n",
        "\n",
        "\n",
        "\n",
        "\n",
        "\n",
        "\n",
        "\n",
        "\n",
        "\n",
        "\n",
        ""
      ]
    },
    {
      "cell_type": "code",
      "source": [],
      "metadata": {
        "id": "RPBbPPKVEUTJ"
      },
      "execution_count": null,
      "outputs": []
    }
  ]
}