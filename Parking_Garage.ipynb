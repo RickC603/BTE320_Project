{
  "nbformat": 4,
  "nbformat_minor": 0,
  "metadata": {
    "colab": {
      "provenance": [],
      "authorship_tag": "ABX9TyOPIMqSKZpf6JsY1e5MXxNv",
      "include_colab_link": true
    },
    "kernelspec": {
      "name": "python3",
      "display_name": "Python 3"
    },
    "language_info": {
      "name": "python"
    }
  },
  "cells": [
    {
      "cell_type": "markdown",
      "metadata": {
        "id": "view-in-github",
        "colab_type": "text"
      },
      "source": [
        "<a href=\"https://colab.research.google.com/github/RickC603/BTE320_Project/blob/main/Parking_Garage.ipynb\" target=\"_parent\"><img src=\"https://colab.research.google.com/assets/colab-badge.svg\" alt=\"Open In Colab\"/></a>"
      ]
    },
    {
      "cell_type": "code",
      "execution_count": 1,
      "metadata": {
        "colab": {
          "base_uri": "https://localhost:8080/"
        },
        "id": "9e55mQrQD85L",
        "outputId": "11297d38-00af-425d-efe3-e92fa331a0ba"
      },
      "outputs": [
        {
          "output_type": "stream",
          "name": "stdout",
          "text": [
            "Hour(s): 1 --- Price: $ 10.0\n",
            "Hour(s): 2 --- Price: $ 10.0\n",
            "Hour(s): 3 --- Price: $ 12.5\n",
            "Hour(s): 4 --- Price: $ 15.0\n",
            "Hour(s): 5 --- Price: $ 17.5\n",
            "Hour(s): 6 --- Price: $ 20.0\n",
            "Hour(s): 7 --- Price: $ 20.0\n",
            "Hour(s): 8 --- Price: $ 20.0\n"
          ]
        }
      ],
      "source": [
        "for hour in range (1,9):\n",
        "\n",
        "  price = hour*2.50+5\n",
        "\n",
        "  if price < 10:\n",
        "\n",
        "    price = 10.0\n",
        "\n",
        "  if price > 20:\n",
        "\n",
        "    price = 20.0\n",
        "\n",
        "  print(\"Hour(s):\", hour, \"--- Price: $\", price)"
      ]
    }
  ]
}