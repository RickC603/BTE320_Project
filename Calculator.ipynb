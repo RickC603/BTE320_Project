{
  "nbformat": 4,
  "nbformat_minor": 0,
  "metadata": {
    "colab": {
      "provenance": [],
      "authorship_tag": "ABX9TyP8oyA/GAomzf0eDXvJ7zsv",
      "include_colab_link": true
    },
    "kernelspec": {
      "name": "python3",
      "display_name": "Python 3"
    },
    "language_info": {
      "name": "python"
    }
  },
  "cells": [
    {
      "cell_type": "markdown",
      "metadata": {
        "id": "view-in-github",
        "colab_type": "text"
      },
      "source": [
        "<a href=\"https://colab.research.google.com/github/RickC603/BTE320_Project/blob/main/Calculator.ipynb\" target=\"_parent\"><img src=\"https://colab.research.google.com/assets/colab-badge.svg\" alt=\"Open In Colab\"/></a>"
      ]
    },
    {
      "cell_type": "code",
      "execution_count": null,
      "metadata": {
        "colab": {
          "base_uri": "https://localhost:8080/"
        },
        "id": "dEniPssK--NZ",
        "outputId": "991c1cf3-3fc9-48cc-b2d7-b71c3ceb9082"
      },
      "outputs": [
        {
          "output_type": "stream",
          "name": "stdout",
          "text": [
            "Please enter the first number: 3\n",
            "Please enter the operator (+, -, *, /, //, %, **): +\n",
            "Please enter the second number: 6\n",
            "The result of the calculation is: 9.0\n"
          ]
        }
      ],
      "source": [
        "while True:\n",
        "\n",
        "  num1 = float(input(\"Please enter the first number: \"))\n",
        "\n",
        "  operator = (input(\"Please enter the operator (+, -, *, /, //, %, **): \"))\n",
        "\n",
        "  if operator == \"break\":\n",
        "\n",
        "    break\n",
        "\n",
        "  num2 = float(input(\"Please enter the second number: \"))\n",
        "\n",
        "  if operator == \"+\":\n",
        "\n",
        "    result = num1+num2\n",
        "\n",
        "  elif operator == \"-\":\n",
        "\n",
        "    result = num1-num2\n",
        "\n",
        "  elif operator == \"*\":\n",
        "\n",
        "    result = num1*num2\n",
        "\n",
        "  elif operator == \"/\":\n",
        "\n",
        "    result = num1/num2\n",
        "\n",
        "  elif operator == \"//\":\n",
        "\n",
        "    result = num1//num2\n",
        "\n",
        "  elif operator == \"%\":\n",
        "\n",
        "    result = num1%num2\n",
        "\n",
        "  elif operator == \"**\":\n",
        "\n",
        "    result = num1**num2\n",
        "\n",
        "  else:\n",
        "\n",
        "    continue\n",
        "\n",
        "  print(\"The result of the calculation is:\", result)"
      ]
    }
  ]
}