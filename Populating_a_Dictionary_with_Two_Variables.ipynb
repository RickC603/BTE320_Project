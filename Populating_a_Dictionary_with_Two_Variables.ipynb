{
  "nbformat": 4,
  "nbformat_minor": 0,
  "metadata": {
    "colab": {
      "provenance": [],
      "authorship_tag": "ABX9TyNuS/9uuzVVLz+Kg/uNrbWX",
      "include_colab_link": true
    },
    "kernelspec": {
      "name": "python3",
      "display_name": "Python 3"
    },
    "language_info": {
      "name": "python"
    }
  },
  "cells": [
    {
      "cell_type": "markdown",
      "metadata": {
        "id": "view-in-github",
        "colab_type": "text"
      },
      "source": [
        "<a href=\"https://colab.research.google.com/github/RickC603/BTE320_Project/blob/main/Populating_a_Dictionary_with_Two_Variables.ipynb\" target=\"_parent\"><img src=\"https://colab.research.google.com/assets/colab-badge.svg\" alt=\"Open In Colab\"/></a>"
      ]
    },
    {
      "cell_type": "code",
      "execution_count": 6,
      "metadata": {
        "colab": {
          "base_uri": "https://localhost:8080/"
        },
        "id": "zmlk7bZ6TbGD",
        "outputId": "55a70589-1d34-4ed4-909b-41ef96463cbb"
      },
      "outputs": [
        {
          "output_type": "stream",
          "name": "stdout",
          "text": [
            "{1: 'January', 2: 'February', 3: 'March', 4: 'April', 5: 'May', 6: 'June', 7: 'August', 9: 'September', 10: 'October', 11: 'November', 12: 'December'}\n"
          ]
        }
      ],
      "source": [
        "months={}\n",
        "\n",
        "numbers = [1,2,3,4,5,6,7,7,9,10,11,12]\n",
        "names = ['January', 'February', 'March', 'April', 'May', 'June', 'July', 'August', 'September', 'October', 'November', 'December']\n",
        "\n",
        "for i in range(len(numbers)):\n",
        "  months[numbers[i]]= names[i]\n",
        "\n",
        "print(months)"
      ]
    }
  ]
}